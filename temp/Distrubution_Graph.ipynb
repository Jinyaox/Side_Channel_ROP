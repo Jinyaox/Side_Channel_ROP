{
 "cells": [
  {
   "cell_type": "markdown",
   "metadata": {},
   "source": [
    "# Graphing Repo For Distribution"
   ]
  },
  {
   "cell_type": "markdown",
   "metadata": {},
   "source": [
    "<h2> Function to plot the normal distbution graph <h2>"
   ]
  },
  {
   "cell_type": "code",
   "execution_count": null,
   "metadata": {},
   "outputs": [],
   "source": [
    "import numpy as np\n",
    "from matplotlib.ticker import ScalarFormatter\n",
    "import matplotlib.pyplot as plt\n",
    "import pandas as pd\n",
    "import csv\n",
    "from collections import defaultdict"
   ]
  },
  {
   "cell_type": "markdown",
   "metadata": {},
   "source": [
    "<h3> The files Processing </h3>"
   ]
  },
  {
   "cell_type": "code",
   "execution_count": null,
   "metadata": {},
   "outputs": [],
   "source": [
    "def process_csv(file,location=None):\n",
    "    counter=defaultdict(int)\n",
    "    df = pd.read_csv(file)\n",
    "    if(location==None):\n",
    "        raw=[i for i in df['Matching'].tolist()]\n",
    "        for i in df['Matching'].tolist():\n",
    "            counter[str(i)]+=1\n",
    "    else:\n",
    "        matching_scores=df['Matching'].tolist()\n",
    "        raw=[matching_scores[i] for i in location]\n",
    "        for i in location:\n",
    "            counter[str(matching_scores[i])]+=1\n",
    "    return [int(i) for i in counter.keys()],counter.values(),raw"
   ]
  },
  {
   "cell_type": "markdown",
   "metadata": {},
   "source": [
    "<h3> the function for graphing </h3>"
   ]
  },
  {
   "cell_type": "code",
   "execution_count": null,
   "metadata": {},
   "outputs": [],
   "source": [
    "class Distribution:\n",
    "    @staticmethod\n",
    "    #lower bound and upper bound are the actual matching score, not percentage\n",
    "    def plot(x_axis:list, y_axis:list, raw,\n",
    "            title=None, x_label=None, y_label=None, legend_label=None, legend_location=\"best\"):\n",
    "        title        = title        or \"Matching Score Distribution\"\n",
    "        x_label      = x_label      or \"Matching Scores\"\n",
    "        y_label      = y_label      or \"Frequency/Occurance\"\n",
    "        legend_label = legend_label or \"Benchmark Mean ={} Std = {}\".format(int(np.mean(np.array(raw))),int(np.std(np.array(raw))))\n",
    "        plt.title(title)\n",
    "        plt.bar(x_axis, y_axis, 1/1.5, alpha=0.75,label=legend_label,log=True)\n",
    "        plt.xlabel(x_label)\n",
    "        plt.ylabel(y_label)\n",
    "        plt.legend(loc=legend_location)\n",
    "        return plt"
   ]
  },
  {
   "cell_type": "code",
   "execution_count": 23,
   "metadata": {},
   "outputs": [],
   "source": [
    "clustered_attack_indices=sorted([i+(j*256) for i in range(129,256) for j in range(0,4)])\n",
    "clustered_normal_indices=sorted([i+(j*256) for i in range(129) for j in range(0,4)])\n",
    "\n",
    "nonclustered_attack_indices=sorted([25,281,537,793])\n",
    "nonclustered_normal_indices=sorted([i for i in range(1024) if i not in nonclustered_attack_indices])"
   ]
  },
  {
   "cell_type": "markdown",
   "metadata": {},
   "source": [
    "<h3> Distribution Graph </h3>"
   ]
  },
  {
   "cell_type": "code",
   "execution_count": null,
   "metadata": {},
   "outputs": [],
   "source": [
    "x,y,r1=process_csv(\"Merge_Sort/Cluster/MergeSort_Cluster_500.csv\",clustered_attack_indices) # change names accordingly\n",
    "k,j,r2=process_csv(\"Merge_Sort/MergeSort_Distribution.csv\")\n",
    "plot=Distribution.plot(x,y,r1)\n",
    "plot=Distribution.plot(k,j,r2)\n",
    "plot.show()\n"
   ]
  },
  {
   "cell_type": "markdown",
   "metadata": {},
   "source": [
    "<h3> Additional Mathematical Functions for Processing Data </h3>"
   ]
  },
  {
   "cell_type": "code",
   "execution_count": 27,
   "metadata": {},
   "outputs": [],
   "source": [
    "# CALCULATING THE percision, recall, and accuracy, helper function, do not modify\n",
    "def metrics(TP,FP,FN,TN,total):\n",
    "    percision=TP/(TP+FP)\n",
    "    recall=TP/(TP+FN)\n",
    "    false_pos=FP/total\n",
    "    accuracy=(TP+TN)/total\n",
    "\n",
    "    return percision,recall,accuracy,false_pos\n",
    "\n",
    "def decision_process(decision:list[bool],normal_loc:list[int],attack_loc:list[int]):\n",
    "\n",
    "    # decision are raw data after decision processing\n",
    "    # normal locations are iterations not attacked, in forms of index vector\n",
    "    # attack_loc are iterations are attacked, in forms of index vector\n",
    "    total=len(decision)\n",
    "    TP,FP,FN,TN=0,0,0,0\n",
    "\n",
    "    for i in attack_loc:\n",
    "        if not decision[i]:\n",
    "            TP+=1\n",
    "        else:\n",
    "            FN+=1\n",
    "    \n",
    "    for i in normal_loc:\n",
    "        if decision[i]:\n",
    "            TN+=1\n",
    "        else:\n",
    "            FP+=1\n",
    "    \n",
    "    return metrics(TP,FP,FN,TN,total)"
   ]
  },
  {
   "cell_type": "code",
   "execution_count": null,
   "metadata": {},
   "outputs": [],
   "source": [
    "#This function calculates the threathold value for the program\n",
    "\n",
    "def threathold(datafile:csv,length:int, legal_location=None,std=0):\n",
    "    _,_,raw=process_csv(datafile,legal_location)\n",
    "    return int(np.mean(np.array(raw)))-std*int(np.std(np.array(raw)))\n",
    "\n",
    "# The function aims to redo all the decisions based on the std deviation for normal approach\n",
    "\n",
    "def decisions (datafile: csv, threath: int) -> list[bool]:\n",
    "    df = pd.read_csv(datafile)\n",
    "    #print(len(df['Matching'].tolist()))\n",
    "    return [(i>threath) for i in df['Matching'].tolist()]\n"
   ]
  },
  {
   "cell_type": "code",
   "execution_count": null,
   "metadata": {},
   "outputs": [],
   "source": [
    "benchmarks=[\"Bellman\", \"bi_search\", \"DFS\", \"FW\", \"Huffman\", \"Kruskal\", \"LCS\", \"MergeSort\", \"Prim\", \"RabinKarp\"]\n",
    "\n",
    "samples_cluster={\n",
    "    \"Bellman\":[200,250,350,450,500], \n",
    "    \"bi_search\": [200,250,300,350,400],\n",
    "    \"DFS\": [i for i in range(100,351,50)],\n",
    "    \"FW\":[i for i in range(200,351,50)], \n",
    "    \"Huffman\":[300,400,500,700,800,850], \n",
    "    \"Kruskal\":[100,250,350,400,450], \n",
    "    \"LCS\":[300,350,400,450,520], \n",
    "    \"MergeSort\": [500,600,700,800],\n",
    "    \"Prim\":[200,250,300,350,400], \n",
    "    \"RabinKarp\":[100,150,250,400,500]\n",
    "}\n",
    "\n",
    "samples_noncluster={\n",
    "    \"Bellman\":[250,350,450,500], \n",
    "    \"bi_search\": [250,300,350,400],\n",
    "    \"DFS\": [i for i in range(200,351,50)],\n",
    "    \"FW\":[i for i in range(250,351,50)], \n",
    "    \"Huffman\":[300,400,500,700,800,900], \n",
    "    \"Kruskal\":[100,250,350,400,450,500], \n",
    "    \"LCS\":[350,400,450,520], \n",
    "    \"MergeSort\": [500,700,800],\n",
    "    \"Prim\":[250,300,350,400], \n",
    "    \"RabinKarp\":[100,250,400,500,600]\n",
    "}"
   ]
  },
  {
   "cell_type": "markdown",
   "metadata": {},
   "source": [
    "# Non Clustered"
   ]
  },
  {
   "cell_type": "markdown",
   "metadata": {},
   "source": [
    "<h3> Graphing Accuracy Plots </h3>"
   ]
  },
  {
   "cell_type": "code",
   "execution_count": 34,
   "metadata": {},
   "outputs": [
    {
     "name": "stdout",
     "output_type": "stream",
     "text": [
      "Bellman (0.99609375, 0.00390625)\n",
      "\n",
      "bi_search (0.9892578125, 0.0107421875)\n",
      "\n",
      "DFS (0.8984375, 0.1015625)\n",
      "\n",
      "FW (1.0, 0.0)\n",
      "\n",
      "Huffman (0.926829268292683, 0.0702439024390244)\n",
      "\n",
      "Kruskal (1.0, 0.0)\n",
      "\n",
      "LCS (1.0, 0.0)\n",
      "\n",
      "MergeSort (0.86328125, 0.1357421875)\n",
      "\n",
      "Prim (0.953125, 0.046875)\n",
      "\n",
      "RabinKarp (1.0, 0.0)\n",
      "\n"
     ]
    }
   ],
   "source": [
    "result=[]\n",
    "for i in benchmarks:\n",
    "    th=threathold(f\"{i}/Non-cluster/{i}_noncluster_{samples_noncluster[i][-1]}.csv\",clustered_normal_indices)\n",
    "    decision=decisions(f\"{i}/Non-cluster/{i}_noncluster_{samples_noncluster[i][-1]}.csv\",th)\n",
    "    result.append(decision_process(decision,nonclustered_normal_indices,nonclustered_attack_indices)) # for each, the first is percision, recall, then accuracy,false pos\n",
    "result=zip(benchmarks,result)\n",
    "for i in result:\n",
    "    print(i[0],i[1][2:])\n",
    "    print()"
   ]
  },
  {
   "cell_type": "markdown",
   "metadata": {},
   "source": [
    "# Clustered"
   ]
  },
  {
   "cell_type": "markdown",
   "metadata": {},
   "source": [
    "<h3> Graphing Accuracy Plots </h3>"
   ]
  },
  {
   "cell_type": "code",
   "execution_count": 33,
   "metadata": {},
   "outputs": [
    {
     "name": "stdout",
     "output_type": "stream",
     "text": [
      "Bellman (0.9951171875, 0.0048828125)\n",
      "\n",
      "bi_search (0.861328125, 0.1357421875)\n",
      "\n",
      "DFS (0.953125, 0.046875)\n",
      "\n",
      "FW (0.9931640625, 0.001953125)\n",
      "\n",
      "Huffman (0.5205078125, 0.1396484375)\n",
      "\n",
      "Kruskal (0.84375, 0.15625)\n",
      "\n",
      "LCS (0.9990234375, 0.0009765625)\n",
      "\n",
      "MergeSort (0.9658203125, 0.0341796875)\n",
      "\n",
      "Prim (0.974609375, 0.0244140625)\n",
      "\n",
      "RabinKarp (0.9052734375, 0.0947265625)\n",
      "\n"
     ]
    }
   ],
   "source": [
    "result=[]\n",
    "#print(benchmarks[4])\n",
    "for i in benchmarks:\n",
    "    th=threathold(f\"{i}/Cluster/{i}_Cluster_{samples_cluster[i][-1]}.csv\",clustered_normal_indices)\n",
    "    decision=decisions(f\"{i}/Cluster/{i}_Cluster_{samples_cluster[i][-1]}.csv\",th)\n",
    "    result.append(decision_process(decision,clustered_normal_indices,clustered_attack_indices)) # for each, the first is percision, recall, and then accuracy\n",
    "\n",
    "result=zip(benchmarks,result)\n",
    "for i in result:\n",
    "    print(i[0],i[1][2:])\n",
    "    print()"
   ]
  },
  {
   "cell_type": "code",
   "execution_count": 30,
   "metadata": {},
   "outputs": [
    {
     "data": {
      "image/png": "[encoded data removed]",
      "text/plain": [
       "<Figure size 1200x600 with 1 Axes>"
      ]
     },
     "metadata": {},
     "output_type": "display_data"
    }
   ],
   "source": [
    "accu=[i[2] for i in result]\n",
    "plt.figure(figsize=(12,6))\n",
    "plt.bar(benchmarks, accu, align='center')\n",
    "plt.show()"
   ]
  },
  {
   "cell_type": "markdown",
   "metadata": {},
   "source": [
    "<h3> Graphing Percision Plots </h3>"
   ]
  },
  {
   "cell_type": "code",
   "execution_count": null,
   "metadata": {},
   "outputs": [],
   "source": [
    "accu=[i[0] for i in result]\n",
    "plt.figure(figsize=(12,6))\n",
    "plt.bar(benchmarks, accu, align='center')\n",
    "plt.show()"
   ]
  },
  {
   "cell_type": "markdown",
   "metadata": {},
   "source": [
    "<h3> Graphing Recall Plots </h3>"
   ]
  },
  {
   "cell_type": "code",
   "execution_count": null,
   "metadata": {},
   "outputs": [],
   "source": [
    "accu=[i[1] for i in result]\n",
    "plt.figure(figsize=(12,6))\n",
    "plt.bar(benchmarks, accu, align='center')\n",
    "plt.show()"
   ]
  }
 ],
 "metadata": {
  "kernelspec": {
   "display_name": "Python 3",
   "language": "python",
   "name": "python3"
  },
  "language_info": {
   "codemirror_mode": {
    "name": "ipython",
    "version": 3
   },
   "file_extension": ".py",
   "mimetype": "text/x-python",
   "name": "python",
   "nbconvert_exporter": "python",
   "pygments_lexer": "ipython3",
   "version": "3.9.5"
  }
 },
 "nbformat": 4,
 "nbformat_minor": 4
}
