{
 "cells": [
  {
   "attachments": {},
   "cell_type": "markdown",
   "metadata": {},
   "source": [
    "# Binary Search Benchmark Injection Testing"
   ]
  },
  {
   "attachments": {},
   "cell_type": "markdown",
   "metadata": {},
   "source": [
    "## Power Trace Gathering"
   ]
  },
  {
   "attachments": {},
   "cell_type": "markdown",
   "metadata": {},
   "source": [
    "At this point you've got to insert code to perform the power trace capture. There are two options here:\n",
    "* Capture from physical device.\n",
    "* Read from a file.\n",
    "\n",
    "You get to choose your adventure - see the two notebooks with the same name of this, but called `(SIMULATED)` or `(HARDWARE)` to continue. Inside those notebooks you should get some code to copy into the following section, which will define the capture function.\n",
    "\n",
    "Be sure you get the `\"✔️ OK to continue!\"` print once you run the next cell, otherwise things will fail later on!\n"
   ]
  },
  {
   "cell_type": "code",
   "execution_count": 167,
   "metadata": {},
   "outputs": [
    {
     "name": "stdout",
     "output_type": "stream",
     "text": [
      "INFO: Found ChipWhisperer😍\n"
     ]
    }
   ],
   "source": [
    "SCOPETYPE = 'OPENADC'\n",
    "PLATFORM = 'CWLITEXMEGA'\n",
    "%run \"../../Setup_Scripts/Setup_Generic.ipynb\"\n",
    "scope.adc.samples = 800"
   ]
  },
  {
   "cell_type": "code",
   "execution_count": null,
   "metadata": {},
   "outputs": [],
   "source": [
    "scope.dis()\n",
    "target.dis()"
   ]
  },
  {
   "cell_type": "code",
   "execution_count": 157,
   "metadata": {},
   "outputs": [],
   "source": [
    "#import necessary library\n",
    "import linear_comp as lc\n",
    "import matplotlib.pyplot as plt \n",
    "import chipwhisperer as cw\n",
    "import numpy as np"
   ]
  },
  {
   "cell_type": "code",
   "execution_count": 158,
   "metadata": {},
   "outputs": [],
   "source": [
    "def cap_pass_trace():\n",
    "    scope.arm()\n",
    "    ret = scope.capture()\n",
    "    num_char = target.in_waiting()\n",
    "    while num_char > 0:\n",
    "        target.read(num_char, 10)\n",
    "        time.sleep(0.01)\n",
    "        num_char = target.in_waiting()\n",
    "\n",
    "    trace = scope.get_last_trace()\n",
    "    return trace"
   ]
  },
  {
   "attachments": {},
   "cell_type": "markdown",
   "metadata": {},
   "source": [
    "<h3> This is for Research Benchmark Checking </h3>"
   ]
  },
  {
   "cell_type": "code",
   "execution_count": 163,
   "metadata": {},
   "outputs": [
    {
     "name": "stdout",
     "output_type": "stream",
     "text": [
      "SS_VER set to SS_VER_1_1\n",
      "SS_VER set to SS_VER_1_1\n",
      "SS_VER set to SS_VER_1_1\n",
      "SS_VER set to SS_VER_1_1\n",
      "gmake[1]: '.dep' is up to date.\n",
      "SS_VER set to SS_VER_1_1\n",
      "SS_VER set to SS_VER_1_1\n",
      ".\n",
      "Welcome to another exciting ChipWhisperer target build!!\n",
      "avr-gcc (Homebrew AVR GCC 9.4.0) 9.4.0\n",
      "Copyright (C) 2019 Free Software Foundation, Inc.\n",
      "This is free software; see the source for copying conditions.  There is NO\n",
      "warranty; not even for MERCHANTABILITY or FITNESS FOR A PARTICULAR PURPOSE.\n",
      "\n",
      ".\n",
      "Compiling:\n",
      "-en     .././hal/xmega/XMEGA_AES_driver.c ...\n",
      "-e Done!\n",
      ".\n",
      "Compiling:\n",
      "-en     .././hal/xmega/uart.c ...\n",
      "-e Done!\n",
      ".\n",
      "Compiling:\n",
      "-en     .././hal/xmega/xmega_hal.c ...\n",
      "-e Done!\n",
      ".\n",
      "Compiling:\n",
      "-en     bi_search.c ...\n",
      "-e Done!\n",
      ".\n",
      "Compiling:\n",
      "-en     .././hal/xmega/usart_driver.c ...\n",
      "-e Done!\n",
      ".\n",
      "LINKING:\n",
      "-en     bi_search-CWLITEXMEGA.elf ...\n",
      "-e Done!\n",
      ".\n",
      "Creating load file for Flash: bi_search-CWLITEXMEGA.hex\n",
      "avr-objcopy -O ihex -R .eeprom -R .fuse -R .lock -R .signature bi_search-CWLITEXMEGA.elf bi_search-CWLITEXMEGA.hex\n",
      ".\n",
      "Creating load file for Flash: bi_search-CWLITEXMEGA.bin\n",
      "avr-objcopy -O binary -R .eeprom -R .fuse -R .lock -R .signature bi_search-CWLITEXMEGA.elf bi_search-CWLITEXMEGA.bin\n",
      ".\n",
      "Creating load file for EEPROM: bi_search-CWLITEXMEGA.eep\n",
      "avr-objcopy -j .eeprom --set-section-flags=.eeprom=\"alloc,load\" \\\n",
      "--change-section-lma .eeprom=0 --no-change-warnings -O ihex bi_search-CWLITEXMEGA.elf bi_search-CWLITEXMEGA.eep || exit 0\n",
      ".\n",
      "Creating Symbol Table: bi_search-CWLITEXMEGA.sym\n",
      "avr-nm -n bi_search-CWLITEXMEGA.elf > bi_search-CWLITEXMEGA.sym\n",
      ".\n",
      "Creating Extended Listing: bi_search-CWLITEXMEGA.lss\n",
      "avr-objdump -h -S -z bi_search-CWLITEXMEGA.elf > bi_search-CWLITEXMEGA.lss\n",
      "SS_VER set to SS_VER_1_1\n",
      "SS_VER set to SS_VER_1_1\n",
      "Size after:\n",
      "   text\t   data\t    bss\t    dec\t    hex\tfilename\n",
      "   1974\t     44\t      2\t   2020\t    7e4\tbi_search-CWLITEXMEGA.elf\n",
      "+--------------------------------------------------------\n",
      "+ Default target does full rebuild each time.\n",
      "+ Specify buildtarget == allquick == to avoid full rebuild\n",
      "+--------------------------------------------------------\n",
      "+--------------------------------------------------------\n",
      "+ Built for platform CW-Lite XMEGA with:\n",
      "+ CRYPTO_TARGET = NONE\n",
      "+ CRYPTO_OPTIONS = AES128C\n",
      "+--------------------------------------------------------\n"
     ]
    }
   ],
   "source": [
    "%%bash -s \"$PLATFORM\" \"$SS_VER\"\n",
    "cd ../../hardware/victims/firmware/Bi_search\n",
    "gmake PLATFORM=$1 CRYPTO_TARGET=NONE SS_VER=$2 -j"
   ]
  },
  {
   "cell_type": "code",
   "execution_count": 164,
   "metadata": {},
   "outputs": [
    {
     "name": "stdout",
     "output_type": "stream",
     "text": [
      "XMEGA Programming flash...\n",
      "XMEGA Reading flash...\n",
      "Verified flash OK, 2017 bytes\n"
     ]
    }
   ],
   "source": [
    "cw.program_target(scope, prog, \"../../hardware/victims/firmware/Bi_search/bi_search-{}.hex\".format(PLATFORM))"
   ]
  },
  {
   "cell_type": "code",
   "execution_count": 89,
   "metadata": {},
   "outputs": [],
   "source": [
    "#reset_target(scope)\n",
    "trace_comp = cap_pass_trace()\n",
    "#cw.plot(trace_comp)\n"
   ]
  },
  {
   "cell_type": "code",
   "execution_count": 161,
   "metadata": {},
   "outputs": [
    {
     "name": "stdout",
     "output_type": "stream",
     "text": [
      "2\n"
     ]
    }
   ],
   "source": [
    "reset_target(scope)\n",
    "trace_set=[]\n",
    "for i in range(150):\n",
    "    trace_hit = cap_pass_trace()\n",
    "    if(len(trace_set))==0:\n",
    "        trace_set.append(trace_hit)\n",
    "    else:\n",
    "        flag=False\n",
    "        for j in range(len(trace_set)):\n",
    "            if (lc.linear_comp(trace_hit,trace_set[j],0.1,250))>750:\n",
    "                flag=True\n",
    "        \n",
    "        if not flag:\n",
    "            trace_set.append(trace_hit)\n",
    "    \n",
    "print(len(trace_set))"
   ]
  },
  {
   "cell_type": "code",
   "execution_count": null,
   "metadata": {},
   "outputs": [],
   "source": [
    "#cw.plot(trace_comp) * cw.plot(trace_set[0])\n",
    "#print(lc.linear_comp(trace_comp,trace_set[0],0.1,250))\n",
    "#abs(np.sum(trace_set[1]-trace_comp))\n",
    "\n",
    "cw.plot(trace_set[0]) *  cw.plot(trace_set[1])\n",
    "#abs(np.sum(trace_set[0]-trace_set[2]))\n",
    "#print(lc.linear_comp(trace_set[0],trace_set[2],0.1,250))"
   ]
  },
  {
   "attachments": {},
   "cell_type": "markdown",
   "metadata": {},
   "source": [
    "# The Testing Part"
   ]
  },
  {
   "cell_type": "markdown",
   "metadata": {},
   "source": [
    "<h3> Check False Positives </h3>\n",
    "\n",
    " - Iterate over a thousand times and the result should be 1000\n",
    "\n",
    "<h3> Check Accruacy </h3>\n",
    "\n",
    " - Iterate over 1024 times and there should be only 4 ROP attacks"
   ]
  },
  {
   "cell_type": "code",
   "execution_count": 165,
   "metadata": {},
   "outputs": [],
   "source": [
    "result=[]\n",
    "reset_target(scope)\n",
    "\n",
    "for i in range(1024): # we now are getting right result\n",
    "    trace_test=cap_pass_trace()\n",
    "    x=max([lc.linear_comp(trace_test,trace_set[j],0.1,250) for j in range(len(trace_set))])\n",
    "    result.append(x)"
   ]
  },
  {
   "cell_type": "code",
   "execution_count": 166,
   "metadata": {},
   "outputs": [],
   "source": [
    "with open(\"bi_search_ROP_accuracy.csv\",'w') as f:\n",
    "    f.write(\"Test Iteration,Matching,Decision\\n\")\n",
    "    for i in range(len(result)):\n",
    "        if(result[i]>750):\n",
    "            f.write(f\"{i},{result[i]},OK\\n\")\n",
    "        else:\n",
    "            f.write(f\"{i},{result[i]},Failed\\n\")"
   ]
  },
  {
   "cell_type": "code",
   "execution_count": null,
   "metadata": {},
   "outputs": [],
   "source": []
  }
 ],
 "metadata": {
  "kernelspec": {
   "display_name": "CW_project1",
   "language": "python",
   "name": "cw_project1"
  },
  "language_info": {
   "codemirror_mode": {
    "name": "ipython",
    "version": 3
   },
   "file_extension": ".py",
   "mimetype": "text/x-python",
   "name": "python",
   "nbconvert_exporter": "python",
   "pygments_lexer": "ipython3",
   "version": "3.9.5"
  }
 },
 "nbformat": 4,
 "nbformat_minor": 4
}
