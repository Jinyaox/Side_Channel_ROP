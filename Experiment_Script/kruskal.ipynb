{
 "cells": [
  {
   "attachments": {},
   "cell_type": "markdown",
   "metadata": {},
   "source": [
    "# Kruskal Benchmark Injection Testing"
   ]
  },
  {
   "cell_type": "code",
   "execution_count": 8,
   "metadata": {},
   "outputs": [
    {
     "name": "stdout",
     "output_type": "stream",
     "text": [
      "INFO: Found ChipWhisperer😍\n"
     ]
    }
   ],
   "source": [
    "SCOPETYPE = 'OPENADC'\n",
    "PLATFORM = 'CWLITEXMEGA'\n",
    "%run \"../../Setup_Scripts/Setup_Generic.ipynb\"\n",
    "%matplotlib widget\n",
    "scope.adc.samples = 900"
   ]
  },
  {
   "cell_type": "code",
   "execution_count": 39,
   "metadata": {},
   "outputs": [],
   "source": [
    "scope.dis()\n",
    "target.dis()"
   ]
  },
  {
   "cell_type": "code",
   "execution_count": 3,
   "metadata": {},
   "outputs": [],
   "source": [
    "import linear_comp as lc\n",
    "import matplotlib.pyplot as plt \n",
    "import chipwhisperer as cw\n",
    "import numpy as np"
   ]
  },
  {
   "cell_type": "code",
   "execution_count": 4,
   "metadata": {},
   "outputs": [],
   "source": [
    "def cap_pass_trace():\n",
    "    #reset_target(scope)\n",
    "    scope.arm()\n",
    "    ret = scope.capture()\n",
    "    num_char = target.in_waiting()\n",
    "    while num_char > 0:\n",
    "        target.read(num_char, 10)\n",
    "        time.sleep(0.01)\n",
    "        num_char = target.in_waiting()\n",
    "\n",
    "    trace = scope.get_last_trace()\n",
    "    return trace"
   ]
  },
  {
   "attachments": {},
   "cell_type": "markdown",
   "metadata": {},
   "source": [
    "<h3> This is for Research Benchmark Checking </h3>"
   ]
  },
  {
   "cell_type": "code",
   "execution_count": 35,
   "metadata": {},
   "outputs": [
    {
     "name": "stdout",
     "output_type": "stream",
     "text": [
      "SS_VER set to SS_VER_1_1\n",
      "SS_VER set to SS_VER_1_1\n",
      "SS_VER set to SS_VER_1_1\n",
      "SS_VER set to SS_VER_1_1\n",
      "gmake[1]: '.dep' is up to date.\n"
     ]
    },
    {
     "name": "stdout",
     "output_type": "stream",
     "text": [
      "SS_VER set to SS_VER_1_1\n",
      "SS_VER set to SS_VER_1_1\n",
      ".\n",
      "Welcome to another exciting ChipWhisperer target build!!\n",
      "avr-gcc (Homebrew AVR GCC 9.4.0) 9.4.0\n",
      "Copyright (C) 2019 Free Software Foundation, Inc.\n",
      "This is free software; see the source for copying conditions.  There is NO\n",
      "warranty; not even for MERCHANTABILITY or FITNESS FOR A PARTICULAR PURPOSE.\n",
      "\n",
      ".\n",
      "Compiling:\n",
      "-en     .././hal/xmega/XMEGA_AES_driver.c ...\n",
      "-e Done!\n",
      ".\n",
      "Compiling:\n",
      "-en     .././hal/xmega/xmega_hal.c ...\n",
      "-e Done!\n",
      ".\n",
      "Compiling:\n",
      "-en     .././hal/xmega/uart.c ...\n",
      "-e Done!\n",
      ".\n",
      "Compiling:\n",
      "-en     .././hal/xmega/usart_driver.c ...\n",
      "-e Done!\n",
      ".\n",
      "Compiling:\n",
      "-en     Kruskal.c ...\n",
      "-e Done!\n",
      ".\n",
      "LINKING:\n",
      "-en     Kruskal-CWLITEXMEGA.elf ...\n",
      "-e Done!\n",
      ".\n",
      "Creating load file for Flash: Kruskal-CWLITEXMEGA.hex\n",
      "avr-objcopy -O ihex -R .eeprom -R .fuse -R .lock -R .signature Kruskal-CWLITEXMEGA.elf Kruskal-CWLITEXMEGA.hex\n",
      ".\n",
      "Creating load file for Flash: Kruskal-CWLITEXMEGA.bin\n",
      "avr-objcopy -O binary -R .eeprom -R .fuse -R .lock -R .signature Kruskal-CWLITEXMEGA.elf Kruskal-CWLITEXMEGA.bin\n",
      ".\n",
      "Creating load file for EEPROM: Kruskal-CWLITEXMEGA.eep\n",
      "avr-objcopy -j .eeprom --set-section-flags=.eeprom=\"alloc,load\" \\\n",
      "--change-section-lma .eeprom=0 --no-change-warnings -O ihex Kruskal-CWLITEXMEGA.elf Kruskal-CWLITEXMEGA.eep || exit 0\n",
      ".\n",
      "Creating Symbol Table: Kruskal-CWLITEXMEGA.sym\n",
      "avr-nm -n Kruskal-CWLITEXMEGA.elf > Kruskal-CWLITEXMEGA.sym\n",
      ".\n",
      "Creating Extended Listing: Kruskal-CWLITEXMEGA.lss\n",
      "avr-objdump -h -S -z Kruskal-CWLITEXMEGA.elf > Kruskal-CWLITEXMEGA.lss\n",
      "SS_VER set to SS_VER_1_1\n",
      "SS_VER set to SS_VER_1_1\n",
      "Size after:\n",
      "   text\t   data\t    bss\t    dec\t    hex\tfilename\n",
      "   3906\t     34\t      2\t   3942\t    f66\tKruskal-CWLITEXMEGA.elf\n",
      "+--------------------------------------------------------\n",
      "+ Default target does full rebuild each time.\n",
      "+ Specify buildtarget == allquick == to avoid full rebuild\n",
      "+--------------------------------------------------------\n",
      "+--------------------------------------------------------\n",
      "+ Built for platform CW-Lite XMEGA with:\n",
      "+ CRYPTO_TARGET = NONE\n",
      "+ CRYPTO_OPTIONS = \n",
      "+--------------------------------------------------------\n"
     ]
    }
   ],
   "source": [
    "%%bash -s \"$PLATFORM\" \"$SS_VER\"\n",
    "cd ../../hardware/victims/firmware/Kruskal\n",
    "gmake PLATFORM=$1 CRYPTO_TARGET=NONE SS_VER=$2 -j"
   ]
  },
  {
   "cell_type": "code",
   "execution_count": 36,
   "metadata": {},
   "outputs": [
    {
     "name": "stdout",
     "output_type": "stream",
     "text": [
      "XMEGA Programming flash...\n",
      "XMEGA Reading flash...\n",
      "Verified flash OK, 3939 bytes\n"
     ]
    }
   ],
   "source": [
    "cw.program_target(scope, prog, \"../../hardware/victims/firmware/Kruskal/Kruskal-{}.hex\".format(PLATFORM))"
   ]
  },
  {
   "cell_type": "code",
   "execution_count": null,
   "metadata": {},
   "outputs": [],
   "source": [
    "#reset_target(scope)\n",
    "trace_comp = cap_pass_trace()\n",
    "cw.plot(trace_comp)"
   ]
  },
  {
   "cell_type": "code",
   "execution_count": 20,
   "metadata": {},
   "outputs": [
    {
     "name": "stdout",
     "output_type": "stream",
     "text": [
      "10\n"
     ]
    }
   ],
   "source": [
    "#this is the method bloc get all the possible traits from the testing, repeatedly. \n",
    "reset_target(scope)\n",
    "trace_set=[]\n",
    "for i in range(250):\n",
    "    trace_hit = cap_pass_trace()\n",
    "    if(len(trace_set))==0:\n",
    "        trace_set.append(trace_hit)\n",
    "    else:\n",
    "        flag=False\n",
    "        for j in range(len(trace_set)):\n",
    "            if(lc.linear_comp(trace_hit,trace_set[j],0.1,200))>850:\n",
    "                flag=True\n",
    "        \n",
    "        if not flag:\n",
    "            trace_set.append(trace_hit)\n",
    "    \n",
    "print(len(trace_set))"
   ]
  },
  {
   "cell_type": "code",
   "execution_count": null,
   "metadata": {},
   "outputs": [],
   "source": [
    "#cw.plot(trace_comp) * cw.plot(trace_set[3])\n",
    "#abs(np.sum(trace_comp-trace_set[0]))"
   ]
  },
  {
   "attachments": {},
   "cell_type": "markdown",
   "metadata": {},
   "source": [
    "# The Testing Part"
   ]
  },
  {
   "cell_type": "code",
   "execution_count": 37,
   "metadata": {},
   "outputs": [],
   "source": [
    "result=[]\n",
    "for i in range(4): # we now are getting right result\n",
    "    reset_target(scope)\n",
    "    for j in range(256):\n",
    "        trace_test=cap_pass_trace()\n",
    "        x=max([lc.linear_comp(trace_test,trace_set[k],0.1,200) for k in range(len(trace_set))])\n",
    "        result.append(x)"
   ]
  },
  {
   "cell_type": "code",
   "execution_count": 38,
   "metadata": {},
   "outputs": [],
   "source": [
    "with open(\"Kruskal_Accuracy.csv\",'w') as f:\n",
    "    f.write(\"Test Iteration,Matching,Decision\\n\")\n",
    "    for i in range(len(result)):\n",
    "        if(result[i]>750):\n",
    "            f.write(f\"{i},{result[i]},OK\\n\")\n",
    "        else:\n",
    "            f.write(f\"{i},{result[i]},Failed\\n\")"
   ]
  },
  {
   "cell_type": "code",
   "execution_count": null,
   "metadata": {},
   "outputs": [],
   "source": []
  }
 ],
 "metadata": {
  "kernelspec": {
   "display_name": "CW_project1",
   "language": "python",
   "name": "cw_project1"
  },
  "language_info": {
   "codemirror_mode": {
    "name": "ipython",
    "version": 3
   },
   "file_extension": ".py",
   "mimetype": "text/x-python",
   "name": "python",
   "nbconvert_exporter": "python",
   "pygments_lexer": "ipython3",
   "version": "3.9.5"
  }
 },
 "nbformat": 4,
 "nbformat_minor": 4
}
