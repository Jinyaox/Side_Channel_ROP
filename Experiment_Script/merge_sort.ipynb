{
 "cells": [
  {
   "attachments": {},
   "cell_type": "markdown",
   "metadata": {},
   "source": [
    "# MergeSort Benchmark Injection Testing"
   ]
  },
  {
   "cell_type": "code",
   "execution_count": 94,
   "metadata": {},
   "outputs": [
    {
     "name": "stdout",
     "output_type": "stream",
     "text": [
      "INFO: Found ChipWhisperer😍\n"
     ]
    }
   ],
   "source": [
    "SCOPETYPE = 'OPENADC'\n",
    "PLATFORM = 'CWLITEXMEGA'\n",
    "%run \"../../Setup_Scripts/Setup_Generic.ipynb\"\n",
    "%matplotlib widget\n",
    "scope.adc.samples = 800"
   ]
  },
  {
   "cell_type": "code",
   "execution_count": 101,
   "metadata": {},
   "outputs": [],
   "source": [
    "scope.dis()\n",
    "target.dis()"
   ]
  },
  {
   "cell_type": "code",
   "execution_count": 2,
   "metadata": {},
   "outputs": [],
   "source": [
    "#import necessary library \n",
    "import linear_comp as lc\n",
    "import matplotlib.pyplot as plt \n",
    "import chipwhisperer as cw\n",
    "import numpy as np"
   ]
  },
  {
   "cell_type": "code",
   "execution_count": 3,
   "metadata": {},
   "outputs": [],
   "source": [
    "def cap_pass_trace():\n",
    "    #reset_target(scope)\n",
    "    scope.arm()\n",
    "    ret = scope.capture()\n",
    "    num_char = target.in_waiting()\n",
    "    while num_char > 0:\n",
    "        target.read(num_char, 10)\n",
    "        time.sleep(0.01)\n",
    "        num_char = target.in_waiting()\n",
    "\n",
    "    trace = scope.get_last_trace()\n",
    "    return trace\n"
   ]
  },
  {
   "attachments": {},
   "cell_type": "markdown",
   "metadata": {},
   "source": [
    "<h3> This is for Research Benchmark Checking </h3>"
   ]
  },
  {
   "cell_type": "code",
   "execution_count": 106,
   "metadata": {},
   "outputs": [
    {
     "name": "stdout",
     "output_type": "stream",
     "text": [
      "SS_VER set to SS_VER_1_1\n",
      "SS_VER set to SS_VER_1_1\n",
      "SS_VER set to SS_VER_1_1\n",
      "SS_VER set to SS_VER_1_1\n",
      "gmake[1]: '.dep' is up to date.\n"
     ]
    },
    {
     "name": "stdout",
     "output_type": "stream",
     "text": [
      "SS_VER set to SS_VER_1_1\n",
      "SS_VER set to SS_VER_1_1\n",
      ".\n",
      "Welcome to another exciting ChipWhisperer target build!!\n",
      "avr-gcc (Homebrew AVR GCC 9.4.0) 9.4.0\n",
      "Copyright (C) 2019 Free Software Foundation, Inc.\n",
      "This is free software; see the source for copying conditions.  There is NO\n",
      "warranty; not even for MERCHANTABILITY or FITNESS FOR A PARTICULAR PURPOSE.\n",
      "\n",
      ".\n",
      "Compiling:\n",
      "-en     .././hal/xmega/XMEGA_AES_driver.c ...\n",
      "-e Done!\n",
      ".\n",
      "Compiling:\n",
      "-en     .././hal/xmega/xmega_hal.c ...\n",
      "-e Done!\n",
      ".\n",
      "Compiling:\n",
      "-en     .././hal/xmega/uart.c ...\n",
      "-e Done!\n",
      ".\n",
      "Compiling:\n",
      "-en     .././hal/xmega/usart_driver.c ...\n",
      "-e Done!\n",
      ".\n",
      "Compiling:\n",
      "-en     merge_sort.c ...\n",
      "-e Done!\n",
      ".\n",
      "LINKING:\n",
      "-en     merge_sort-CWLITEXMEGA.elf ...\n",
      "-e Done!\n",
      ".\n",
      "Creating load file for Flash: merge_sort-CWLITEXMEGA.hex\n",
      "avr-objcopy -O ihex -R .eeprom -R .fuse -R .lock -R .signature merge_sort-CWLITEXMEGA.elf merge_sort-CWLITEXMEGA.hex\n",
      ".\n",
      "Creating load file for Flash: merge_sort-CWLITEXMEGA.bin\n",
      "avr-objcopy -O binary -R .eeprom -R .fuse -R .lock -R .signature merge_sort-CWLITEXMEGA.elf merge_sort-CWLITEXMEGA.bin\n",
      ".\n",
      "Creating load file for EEPROM: merge_sort-CWLITEXMEGA.eep\n",
      "avr-objcopy -j .eeprom --set-section-flags=.eeprom=\"alloc,load\" \\\n",
      "--change-section-lma .eeprom=0 --no-change-warnings -O ihex merge_sort-CWLITEXMEGA.elf merge_sort-CWLITEXMEGA.eep || exit 0\n",
      ".\n",
      "Creating Symbol Table: merge_sort-CWLITEXMEGA.sym\n",
      "avr-nm -n merge_sort-CWLITEXMEGA.elf > merge_sort-CWLITEXMEGA.sym\n",
      ".\n",
      "Creating Extended Listing: merge_sort-CWLITEXMEGA.lss\n",
      "avr-objdump -h -S -z merge_sort-CWLITEXMEGA.elf > merge_sort-CWLITEXMEGA.lss\n",
      "SS_VER set to SS_VER_1_1\n",
      "SS_VER set to SS_VER_1_1\n",
      "Size after:\n",
      "   text\t   data\t    bss\t    dec\t    hex\tfilename\n",
      "   2428\t     52\t      2\t   2482\t    9b2\tmerge_sort-CWLITEXMEGA.elf\n",
      "+--------------------------------------------------------\n",
      "+ Default target does full rebuild each time.\n",
      "+ Specify buildtarget == allquick == to avoid full rebuild\n",
      "+--------------------------------------------------------\n",
      "+--------------------------------------------------------\n",
      "+ Built for platform CW-Lite XMEGA with:\n",
      "+ CRYPTO_TARGET = NONE\n",
      "+ CRYPTO_OPTIONS = AES128C\n",
      "+--------------------------------------------------------\n"
     ]
    }
   ],
   "source": [
    "%%bash -s \"$PLATFORM\" \"$SS_VER\"\n",
    "cd ../../hardware/victims/firmware/Mergesort\n",
    "gmake PLATFORM=$1 CRYPTO_TARGET=NONE SS_VER=$2 -j"
   ]
  },
  {
   "cell_type": "code",
   "execution_count": 107,
   "metadata": {},
   "outputs": [
    {
     "name": "stdout",
     "output_type": "stream",
     "text": [
      "XMEGA Programming flash...\n",
      "XMEGA Reading flash...\n",
      "Verified flash OK, 2479 bytes\n"
     ]
    }
   ],
   "source": [
    "cw.program_target(scope, prog, \"../../hardware/victims/firmware/Mergesort/merge_sort-{}.hex\".format(PLATFORM))"
   ]
  },
  {
   "cell_type": "code",
   "execution_count": 101,
   "metadata": {},
   "outputs": [
    {
     "name": "stdout",
     "output_type": "stream",
     "text": [
      "1\n"
     ]
    }
   ],
   "source": [
    "#this is the method bloc get all the possible traits from the testing, repeatedly. \n",
    "reset_target(scope)\n",
    "trace_set=[]\n",
    "for i in range(140):\n",
    "    trace_hit = cap_pass_trace()\n",
    "    if(len(trace_set))==0:\n",
    "        trace_set.append(trace_hit)\n",
    "    else:\n",
    "        flag=False\n",
    "        for j in range(len(trace_set)):\n",
    "            if(lc.linear_comp(trace_hit,trace_set[j],0.1,80))>750:\n",
    "                flag=True\n",
    "        \n",
    "        if not flag:\n",
    "            trace_set.append(trace_hit)\n",
    "    \n",
    "print(len(trace_set))"
   ]
  },
  {
   "cell_type": "code",
   "execution_count": null,
   "metadata": {},
   "outputs": [],
   "source": [
    "cw.plot(trace_set[0])\n",
    "#lc.linear_comp(trace_set[1],trace_set[2],0.1,40)\n",
    "\n",
    "#reset_target(scope)\n",
    "#trace_check = cap_pass_trace()\n",
    "#cw.plot(trace_check) *cw.plot(trace_set[3]) \n",
    "#lc.linear_comp(trace_check,trace_set[0],0.06,50)"
   ]
  },
  {
   "attachments": {},
   "cell_type": "markdown",
   "metadata": {},
   "source": [
    "# The Testing Part"
   ]
  },
  {
   "cell_type": "code",
   "execution_count": 108,
   "metadata": {},
   "outputs": [],
   "source": [
    "result=[]\n",
    "reset_target(scope)\n",
    "\n",
    "for i in range(1024): # we now are getting right result\n",
    "    trace_test=cap_pass_trace()\n",
    "    x=max([lc.linear_comp(trace_test,trace_set[j],0.1,80) for j in range(len(trace_set))])\n",
    "    result.append(x)"
   ]
  },
  {
   "cell_type": "code",
   "execution_count": 109,
   "metadata": {},
   "outputs": [],
   "source": [
    "with open(\"Merge_sort_Accuracy.csv\",'w') as f:\n",
    "    f.write(\"Test Iteration,Matching,Decision\\n\")\n",
    "    for i in range(len(result)):\n",
    "        if(result[i]>750):\n",
    "            f.write(f\"{i},{result[i]},OK\\n\")\n",
    "        else:\n",
    "            f.write(f\"{i},{result[i]},Failed\\n\")"
   ]
  },
  {
   "cell_type": "code",
   "execution_count": null,
   "metadata": {},
   "outputs": [],
   "source": []
  }
 ],
 "metadata": {
  "kernelspec": {
   "display_name": "CW_project1",
   "language": "python",
   "name": "cw_project1"
  },
  "language_info": {
   "codemirror_mode": {
    "name": "ipython",
    "version": 3
   },
   "file_extension": ".py",
   "mimetype": "text/x-python",
   "name": "python",
   "nbconvert_exporter": "python",
   "pygments_lexer": "ipython3",
   "version": "3.9.5"
  }
 },
 "nbformat": 4,
 "nbformat_minor": 4
}
