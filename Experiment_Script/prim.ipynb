{
 "cells": [
  {
   "attachments": {},
   "cell_type": "markdown",
   "metadata": {},
   "source": [
    "# Prim Benchmark Injection Testing"
   ]
  },
  {
   "cell_type": "code",
   "execution_count": 3,
   "metadata": {},
   "outputs": [
    {
     "name": "stdout",
     "output_type": "stream",
     "text": [
      "INFO: Found ChipWhisperer😍\n"
     ]
    }
   ],
   "source": [
    "SCOPETYPE = 'OPENADC'\n",
    "PLATFORM = 'CWLITEXMEGA'\n",
    "%run \"../../Setup_Scripts/Setup_Generic.ipynb\"\n",
    "%matplotlib widget\n",
    "scope.adc.samples = 1000"
   ]
  },
  {
   "cell_type": "code",
   "execution_count": 9,
   "metadata": {},
   "outputs": [],
   "source": [
    "scope.dis()\n",
    "target.dis()"
   ]
  },
  {
   "cell_type": "code",
   "execution_count": 4,
   "metadata": {},
   "outputs": [],
   "source": [
    "#import necessary library \n",
    "import linear_comp as lc\n",
    "import matplotlib.pyplot as plt \n",
    "import chipwhisperer as cw\n",
    "import numpy as np"
   ]
  },
  {
   "cell_type": "code",
   "execution_count": 5,
   "metadata": {},
   "outputs": [],
   "source": [
    "def cap_pass_trace():\n",
    "    scope.arm()\n",
    "    ret = scope.capture()\n",
    "    num_char = target.in_waiting()\n",
    "    while num_char > 0:\n",
    "        target.read(num_char, 10)\n",
    "        time.sleep(0.01)\n",
    "        num_char = target.in_waiting()\n",
    "\n",
    "    trace = scope.get_last_trace()\n",
    "    return trace\n"
   ]
  },
  {
   "attachments": {},
   "cell_type": "markdown",
   "metadata": {},
   "source": [
    "<h3> This is for Research Benchmark Checking </h3>"
   ]
  },
  {
   "cell_type": "code",
   "execution_count": 62,
   "metadata": {},
   "outputs": [
    {
     "name": "stdout",
     "output_type": "stream",
     "text": [
      "SS_VER set to SS_VER_1_1\n",
      "SS_VER set to SS_VER_1_1\n",
      "SS_VER set to SS_VER_1_1\n",
      "SS_VER set to SS_VER_1_1\n",
      "gmake[1]: '.dep' is up to date.\n",
      "SS_VER set to SS_VER_1_1\n",
      "SS_VER set to SS_VER_1_1\n",
      ".\n",
      "Welcome to another exciting ChipWhisperer target build!!\n",
      "avr-gcc (Homebrew AVR GCC 9.4.0) 9.4.0\n",
      "Copyright (C) 2019 Free Software Foundation, Inc.\n",
      "This is free software; see the source for copying conditions.  There is NO\n",
      "warranty; not even for MERCHANTABILITY or FITNESS FOR A PARTICULAR PURPOSE.\n",
      "\n",
      ".\n",
      "Compiling:\n",
      "-en     .././hal/xmega/XMEGA_AES_driver.c ...\n",
      "-e Done!\n",
      ".\n",
      "Compiling:\n",
      "-en     .././hal/xmega/xmega_hal.c ...\n",
      "-e Done!\n",
      ".\n",
      "Compiling:\n",
      "-en     .././hal/xmega/uart.c ...\n",
      "-e Done!\n",
      ".\n",
      "Compiling:\n",
      "-en     .././hal/xmega/usart_driver.c ...\n",
      "-e Done!\n",
      ".\n",
      "Compiling:\n",
      "-en     prim.c ...\n",
      "-e Done!\n"
     ]
    },
    {
     "name": "stderr",
     "output_type": "stream",
     "text": [
      "prim.c: In function 'primMST':\n",
      "prim.c:53:9: warning: variable 'parent' set but not used [-Wunused-but-set-variable]\n",
      "   53 |     int parent[V];\n",
      "      |         ^~~~~~\n"
     ]
    },
    {
     "name": "stdout",
     "output_type": "stream",
     "text": [
      ".\n",
      "LINKING:\n",
      "-en     prim-CWLITEXMEGA.elf ...\n",
      "-e Done!\n",
      ".\n",
      "Creating load file for Flash: prim-CWLITEXMEGA.hex\n",
      "avr-objcopy -O ihex -R .eeprom -R .fuse -R .lock -R .signature prim-CWLITEXMEGA.elf prim-CWLITEXMEGA.hex\n",
      ".\n",
      "Creating load file for Flash: prim-CWLITEXMEGA.bin\n",
      "avr-objcopy -O binary -R .eeprom -R .fuse -R .lock -R .signature prim-CWLITEXMEGA.elf prim-CWLITEXMEGA.bin\n",
      ".\n",
      "Creating load file for EEPROM: prim-CWLITEXMEGA.eep\n",
      "avr-objcopy -j .eeprom --set-section-flags=.eeprom=\"alloc,load\" \\\n",
      "--change-section-lma .eeprom=0 --no-change-warnings -O ihex prim-CWLITEXMEGA.elf prim-CWLITEXMEGA.eep || exit 0\n",
      ".\n",
      "Creating Symbol Table: prim-CWLITEXMEGA.sym\n",
      "avr-nm -n prim-CWLITEXMEGA.elf > prim-CWLITEXMEGA.sym\n",
      ".\n",
      "Creating Extended Listing: prim-CWLITEXMEGA.lss\n",
      "avr-objdump -h -S -z prim-CWLITEXMEGA.elf > prim-CWLITEXMEGA.lss\n",
      "SS_VER set to SS_VER_1_1\n",
      "SS_VER set to SS_VER_1_1\n",
      "Size after:\n",
      "   text\t   data\t    bss\t    dec\t    hex\tfilename\n",
      "   1990\t     54\t      2\t   2046\t    7fe\tprim-CWLITEXMEGA.elf\n",
      "+--------------------------------------------------------\n",
      "+ Default target does full rebuild each time.\n",
      "+ Specify buildtarget == allquick == to avoid full rebuild\n",
      "+--------------------------------------------------------\n",
      "+--------------------------------------------------------\n",
      "+ Built for platform CW-Lite XMEGA with:\n",
      "+ CRYPTO_TARGET = NONE\n",
      "+ CRYPTO_OPTIONS = \n",
      "+--------------------------------------------------------\n"
     ]
    }
   ],
   "source": [
    "%%bash -s \"$PLATFORM\" \"$SS_VER\"\n",
    "cd ../../hardware/victims/firmware/prim\n",
    "gmake PLATFORM=$1 CRYPTO_TARGET=NONE SS_VER=$2 -j"
   ]
  },
  {
   "cell_type": "code",
   "execution_count": 63,
   "metadata": {},
   "outputs": [
    {
     "name": "stdout",
     "output_type": "stream",
     "text": [
      "XMEGA Programming flash...\n",
      "XMEGA Reading flash...\n",
      "Verified flash OK, 2043 bytes\n"
     ]
    }
   ],
   "source": [
    "cw.program_target(scope, prog, \"../../hardware/victims/firmware/prim/prim-{}.hex\".format(PLATFORM))"
   ]
  },
  {
   "cell_type": "code",
   "execution_count": 53,
   "metadata": {},
   "outputs": [
    {
     "name": "stdout",
     "output_type": "stream",
     "text": [
      "8\n"
     ]
    }
   ],
   "source": [
    "#this is the method bloc get all the possible traits from the testing, repeatedly. \n",
    "reset_target(scope)\n",
    "trace_set=[]\n",
    "for i in range(150):\n",
    "    trace_hit = cap_pass_trace()\n",
    "    if(len(trace_set))==0:\n",
    "        trace_set.append(trace_hit)\n",
    "    else:\n",
    "        flag=False\n",
    "        for j in range(len(trace_set)):\n",
    "            if(lc.linear_comp(trace_hit,trace_set[j],0.1,100))>950:\n",
    "                flag=True\n",
    "        \n",
    "        if not flag:\n",
    "            trace_set.append(trace_hit)\n",
    "    \n",
    "print(len(trace_set))"
   ]
  },
  {
   "cell_type": "code",
   "execution_count": null,
   "metadata": {},
   "outputs": [],
   "source": [
    "cw.plot(trace_set[0]) * cw.plot(trace_set[1]) "
   ]
  },
  {
   "attachments": {},
   "cell_type": "markdown",
   "metadata": {},
   "source": [
    "# The Testing Part"
   ]
  },
  {
   "cell_type": "code",
   "execution_count": 64,
   "metadata": {},
   "outputs": [],
   "source": [
    "result=[]\n",
    "for i in range(7): # we now are getting right result\n",
    "    reset_target(scope)\n",
    "    for j in range(120):\n",
    "        trace_test=cap_pass_trace()\n",
    "        x=max([lc.linear_comp(trace_test,trace_set[k],0.1,100) for k in range(len(trace_set))])\n",
    "        result.append(x)"
   ]
  },
  {
   "cell_type": "code",
   "execution_count": 65,
   "metadata": {},
   "outputs": [],
   "source": [
    "with open(\"PRIM.csv\",'w') as f:\n",
    "    f.write(\"Test Iteration,Matching,Decision\\n\")\n",
    "    for i in range(len(result)):\n",
    "        if(result[i]>800):\n",
    "            f.write(f\"{i},{result[i]},OK\\n\")\n",
    "        else:\n",
    "            f.write(f\"{i},{result[i]},Failed\\n\")"
   ]
  },
  {
   "cell_type": "code",
   "execution_count": null,
   "metadata": {},
   "outputs": [],
   "source": []
  }
 ],
 "metadata": {
  "kernelspec": {
   "display_name": "CW_project1",
   "language": "python",
   "name": "cw_project1"
  },
  "language_info": {
   "codemirror_mode": {
    "name": "ipython",
    "version": 3
   },
   "file_extension": ".py",
   "mimetype": "text/x-python",
   "name": "python",
   "nbconvert_exporter": "python",
   "pygments_lexer": "ipython3",
   "version": "3.9.5"
  }
 },
 "nbformat": 4,
 "nbformat_minor": 4
}
