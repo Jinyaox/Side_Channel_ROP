{
 "cells": [
  {
   "attachments": {},
   "cell_type": "markdown",
   "metadata": {},
   "source": [
    "# DFS Benchmark Injection Testing"
   ]
  },
  {
   "cell_type": "code",
   "execution_count": 2,
   "metadata": {},
   "outputs": [
    {
     "name": "stdout",
     "output_type": "stream",
     "text": [
      "INFO: Found ChipWhisperer😍\n"
     ]
    }
   ],
   "source": [
    "SCOPETYPE = 'OPENADC'\n",
    "PLATFORM = 'CWLITEXMEGA'\n",
    "%run \"../../Setup_Scripts/Setup_Generic.ipynb\"\n",
    "%matplotlib widget\n",
    "scope.adc.samples = 800"
   ]
  },
  {
   "cell_type": "code",
   "execution_count": null,
   "metadata": {},
   "outputs": [],
   "source": [
    "scope.dis()\n",
    "target.dis()"
   ]
  },
  {
   "cell_type": "code",
   "execution_count": 3,
   "metadata": {},
   "outputs": [],
   "source": [
    "#import necessary library \n",
    "import linear_comp as lc\n",
    "import matplotlib.pyplot as plt \n",
    "import chipwhisperer as cw\n",
    "import numpy as np"
   ]
  },
  {
   "cell_type": "code",
   "execution_count": 4,
   "metadata": {},
   "outputs": [],
   "source": [
    "def cap_pass_trace():\n",
    "    scope.arm()\n",
    "    ret = scope.capture()\n",
    "    num_char = target.in_waiting()\n",
    "    while num_char > 0:\n",
    "        target.read(num_char, 10)\n",
    "        time.sleep(0.01)\n",
    "        num_char = target.in_waiting()\n",
    "\n",
    "    trace = scope.get_last_trace()\n",
    "    return trace"
   ]
  },
  {
   "attachments": {},
   "cell_type": "markdown",
   "metadata": {},
   "source": [
    "<h3> This is for Research Benchmark Checking </h3>"
   ]
  },
  {
   "cell_type": "code",
   "execution_count": null,
   "metadata": {},
   "outputs": [],
   "source": [
    "%%bash -s \"$PLATFORM\" \"$SS_VER\"\n",
    "cd ../../hardware/victims/firmware/DFS\n",
    "gmake PLATFORM=$1 CRYPTO_TARGET=NONE SS_VER=$2 -j"
   ]
  },
  {
   "cell_type": "code",
   "execution_count": 13,
   "metadata": {},
   "outputs": [
    {
     "name": "stdout",
     "output_type": "stream",
     "text": [
      "XMEGA Programming flash...\n",
      "XMEGA Reading flash...\n",
      "Verified flash OK, 2061 bytes\n"
     ]
    }
   ],
   "source": [
    "cw.program_target(scope, prog, \"../../hardware/victims/firmware/DFS/dfs-{}.hex\".format(PLATFORM))"
   ]
  },
  {
   "cell_type": "code",
   "execution_count": 7,
   "metadata": {},
   "outputs": [
    {
     "name": "stdout",
     "output_type": "stream",
     "text": [
      "2\n"
     ]
    }
   ],
   "source": [
    "#this is the method bloc get all the possible traits from the testing, repeatedly. \n",
    "reset_target(scope)\n",
    "trace_set=[]\n",
    "for i in range(25):\n",
    "    trace_hit = cap_pass_trace()\n",
    "    if(len(trace_set))==0:\n",
    "        trace_set.append(trace_hit)\n",
    "    else:\n",
    "        flag=False\n",
    "        for j in range(len(trace_set)):\n",
    "            if(lc.linear_comp(trace_hit,trace_set[j],0.1,50))>750:\n",
    "                flag=True\n",
    "        \n",
    "        if not flag:\n",
    "            trace_set.append(trace_hit)\n",
    "    \n",
    "print(len(trace_set))"
   ]
  },
  {
   "cell_type": "code",
   "execution_count": null,
   "metadata": {},
   "outputs": [],
   "source": [
    "cw.plot(trace_set[0])*cw.plot(trace_set[1])"
   ]
  },
  {
   "cell_type": "code",
   "execution_count": null,
   "metadata": {},
   "outputs": [],
   "source": [
    "#reset_target(scope)\n",
    "#trace_hit = cap_pass_trace()\n",
    "#cw.plot(trace_hit) *cw.plot(trace_set[0]) \n",
    "#lc.linear_comp(trace_hit,trace_set[0],0.1,50)"
   ]
  },
  {
   "attachments": {},
   "cell_type": "markdown",
   "metadata": {},
   "source": [
    "# The Testing Part"
   ]
  },
  {
   "cell_type": "code",
   "execution_count": 14,
   "metadata": {},
   "outputs": [],
   "source": [
    "result=[]\n",
    "reset_target(scope)\n",
    "\n",
    "for i in range(1024): # we now are getting right result\n",
    "    trace_test=cap_pass_trace()\n",
    "    x=max([lc.linear_comp(trace_test,trace_set[j],0.1,250) for j in range(len(trace_set))])\n",
    "    result.append(x)"
   ]
  },
  {
   "cell_type": "code",
   "execution_count": 11,
   "metadata": {},
   "outputs": [],
   "source": [
    "with open(\"DFS_Accuracy.csv\",'w') as f:\n",
    "    f.write(\"Test Iteration,Matching,Decision\\n\")\n",
    "    for i in range(len(result)):\n",
    "        if(result[i]>750):\n",
    "            f.write(f\"{i},{result[i]},OK\\n\")\n",
    "        else:\n",
    "            f.write(f\"{i},{result[i]},Failed\\n\")"
   ]
  },
  {
   "cell_type": "code",
   "execution_count": null,
   "metadata": {},
   "outputs": [],
   "source": []
  }
 ],
 "metadata": {
  "kernelspec": {
   "display_name": "CW_project1",
   "language": "python",
   "name": "cw_project1"
  },
  "language_info": {
   "codemirror_mode": {
    "name": "ipython",
    "version": 3
   },
   "file_extension": ".py",
   "mimetype": "text/x-python",
   "name": "python",
   "nbconvert_exporter": "python",
   "pygments_lexer": "ipython3",
   "version": "3.9.5"
  }
 },
 "nbformat": 4,
 "nbformat_minor": 4
}
